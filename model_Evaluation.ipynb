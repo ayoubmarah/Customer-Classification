{
 "cells": [
  {
   "cell_type": "code",
   "execution_count": 145,
   "metadata": {},
   "outputs": [],
   "source": [
    "import pandas as pd \n",
    "import numpy as np \n",
    "from scipy import stats\n",
    "from data_processing import *\n",
    "from os import listdir\n",
    "from os.path import isfile, join\n",
    "import seaborn as sns \n",
    "import matplotlib.pyplot as plt\n",
    "\n",
    "\n",
    "\n",
    "\n",
    "from sklearn.base import TransformerMixin \n",
    "from sklearn.pipeline import Pipeline \n",
    "from sklearn.pipeline import FeatureUnion\n",
    "from sklearn.preprocessing import StandardScaler\n",
    "from sklearn.model_selection import RandomizedSearchCV\n",
    "from sklearn.model_selection import StratifiedKFold\n",
    "from sklearn.model_selection import train_test_split\n",
    "from sklearn.model_selection import cross_val_score\n",
    "\n",
    "\n",
    "\n",
    "from sklearn.neighbors import KNeighborsClassifier\n",
    "from sklearn.ensemble  import ExtraTreesClassifier\n",
    "from sklearn.linear_model import SGDClassifier\n",
    "from sklearn.ensemble import RandomForestClassifier"
   ]
  },
  {
   "cell_type": "markdown",
   "metadata": {},
   "source": [
    "# 3-way hold out method for hyperparameter tuning  \n",
    "# (train / validation / test ) with 5-fold CV"
   ]
  },
  {
   "cell_type": "code",
   "execution_count": 49,
   "metadata": {},
   "outputs": [],
   "source": [
    "x , y , num , cat = data_prep()\n",
    "\n",
    "xtrain , xtest , ytrain , ytest = train_test_split(x , y , test_size = 0.25 , random_state = 10 )\n",
    "\n",
    "classifiers = [\n",
    "        ('KNN' , KNeighborsClassifier() , {\n",
    "                                            'KNN__algorithm':('auto','ball_tree', 'kd_tree', 'brute'),\n",
    "                                            'KNN__n_neighbors' : stats.randint(4 ,40),\n",
    "                                            'KNN__p' : stats.randint(1 ,5),\n",
    "                                            'KNN__weights' : ('uniform' , 'distance')\n",
    "            }),\n",
    "        ('ETclf' , ExtraTreesClassifier() , {\n",
    "                            'ETclf__n_estimators': stats.randint(10 ,500),\n",
    "                            'ETclf__criterion' :('gini' , 'entropy'), \n",
    "                            'ETclf__max_depth': stats.randint(10 ,50), \n",
    "                            'ETclf__max_features': ('sqrt' , 'log2', 'auto') , \n",
    "                                            }), \n",
    "        ('SGD' , SGDClassifier() , {\n",
    "                    'SGD__loss' : ('hinge' , 'log'),\n",
    "                    'SGD__penalty' : ('l1' , 'l2' , 'elasticnet'),\n",
    "                    'SGD__alpha' : stats.uniform(loc = 0 , scale = 0.5)\n",
    "            } )\n",
    "]\n",
    "\n",
    "\n",
    "pipe = Pipeline(steps=[\n",
    "\n",
    "    ('handle_MV' , Impute_MV()),\n",
    "\n",
    "    ('union' , FeatureUnion([\n",
    "        ('numerical' , Pipeline(steps = [\n",
    "            ('extract' , ColumnExtractor(num)),\n",
    "            ('scale' , StandardScaler())\n",
    "            ])),\n",
    "        ('categorical' , Pipeline(steps = [\n",
    "            ('extract' , ColumnExtractor(cat)),\n",
    "            ('one_hot' , One_Hot())\n",
    "            ]))\n",
    "\n",
    "\n",
    "        ]))\n",
    "\n",
    "\n",
    "    ])"
   ]
  },
  {
   "cell_type": "code",
   "execution_count": 6,
   "metadata": {},
   "outputs": [],
   "source": [
    "onlyfiles = [f for f in listdir('data') if isfile(join('data', f))]\n",
    "\n",
    "for name , clf , params in classifiers : \n",
    "\n",
    "    url = f'data/{name}_model_selection_algo.csv'\n",
    "    if url[5:] not in onlyfiles : \n",
    "        pipe.steps.append((name , clf ))\n",
    "\n",
    "        cv = StratifiedKFold(5)\n",
    "        grid = RandomizedSearchCV(pipe , params , cv = cv , n_jobs = -1 , scoring = 'accuracy' )\n",
    "        grid.fit(xtrain , ytrain)\n",
    "        means = grid.cv_results_['mean_test_score']\n",
    "        stds = grid.cv_results_['std_test_score']\n",
    "        params = grid.cv_results_['params']\n",
    "        df = pd.DataFrame({\n",
    "                'means' : means,\n",
    "                'stds' : stds,\n",
    "                'params' : params\n",
    "        })\n",
    "\n",
    "        df.to_csv(url)\n",
    "        pipe.steps = pipe.steps[:-1]\n",
    "    else : \n",
    "        continue"
   ]
  },
  {
   "cell_type": "code",
   "execution_count": 110,
   "metadata": {},
   "outputs": [],
   "source": [
    "ETclf = pd.read_csv('data/ETclf_model_selection_algo.csv').sort_values(by='means' , ascending = False)\n",
    "SGD =  pd.read_csv('data/SGD_model_selection_algo.csv').sort_values(by='means' , ascending = False)\n",
    "KNN = pd.read_csv('data/KNN_model_selection_algo.csv').sort_values(by='means' , ascending = False)\n",
    "best_models = {}"
   ]
  },
  {
   "cell_type": "code",
   "execution_count": 114,
   "metadata": {},
   "outputs": [
    {
     "name": "stdout",
     "output_type": "stream",
     "text": [
      "              precision    recall  f1-score   support\n",
      "\n",
      "           A       0.44      0.42      0.43       541\n",
      "           B       0.26      0.38      0.31       320\n",
      "           C       0.61      0.56      0.58       516\n",
      "           D       0.71      0.64      0.67       640\n",
      "\n",
      "    accuracy                           0.52      2017\n",
      "   macro avg       0.51      0.50      0.50      2017\n",
      "weighted avg       0.54      0.52      0.53      2017\n",
      "\n"
     ]
    }
   ],
   "source": [
    "ET = ExtraTreesClassifier()\n",
    "cv = StratifiedKFold(5)\n",
    "params = {}\n",
    "for k in eval(ETclf.iloc[0 , -1]).keys() : \n",
    "    params[k[7:]] = eval(ETclf.iloc[0 , -1])[k]\n",
    "ET.set_params(**params)\n",
    "ET.fit(pipe.fit_transform(xtrain) , ytrain)\n",
    "pred = ET.predict(pipe.fit_transform(xtest))\n",
    "print(classification_report(pred , ytest))\n",
    "\n",
    "\n",
    "score = cross_val_score(ET ,pipe.fit_transform(x) , y , cv = cv , scoring = 'accuracy' )\n",
    "best_models['ETclf'] = score\n",
    "\n"
   ]
  },
  {
   "cell_type": "code",
   "execution_count": 115,
   "metadata": {},
   "outputs": [
    {
     "name": "stdout",
     "output_type": "stream",
     "text": [
      "              precision    recall  f1-score   support\n",
      "\n",
      "           A       0.43      0.44      0.43       493\n",
      "           B       0.34      0.39      0.36       395\n",
      "           C       0.61      0.56      0.58       523\n",
      "           D       0.68      0.65      0.67       606\n",
      "\n",
      "    accuracy                           0.52      2017\n",
      "   macro avg       0.51      0.51      0.51      2017\n",
      "weighted avg       0.53      0.52      0.53      2017\n",
      "\n"
     ]
    }
   ],
   "source": [
    "knn = KNeighborsClassifier()\n",
    "cv = StratifiedKFold(5)\n",
    "params = {}\n",
    "for k in eval(KNN.iloc[0 , -1]).keys() : \n",
    "    params[k[5:]] = eval(KNN.iloc[0 , -1])[k]\n",
    "knn.set_params(**params)\n",
    "knn.fit(pipe.fit_transform(xtrain) , ytrain)\n",
    "pred = knn.predict(pipe.fit_transform(xtest))\n",
    "print(classification_report(pred , ytest))\n",
    "\n",
    "\n",
    "score = cross_val_score(knn ,pipe.fit_transform(x) , y , cv = cv , scoring = 'accuracy' )\n",
    "best_models['KNN'] = score"
   ]
  },
  {
   "cell_type": "code",
   "execution_count": 116,
   "metadata": {},
   "outputs": [
    {
     "name": "stdout",
     "output_type": "stream",
     "text": [
      "              precision    recall  f1-score   support\n",
      "\n",
      "           A       0.46      0.44      0.45       537\n",
      "           B       0.09      0.40      0.15       105\n",
      "           C       0.75      0.47      0.58       763\n",
      "           D       0.67      0.63      0.65       612\n",
      "\n",
      "    accuracy                           0.51      2017\n",
      "   macro avg       0.49      0.48      0.46      2017\n",
      "weighted avg       0.62      0.51      0.54      2017\n",
      "\n"
     ]
    }
   ],
   "source": [
    "sgd = SGDClassifier()\n",
    "cv = StratifiedKFold(5)\n",
    "params = {}\n",
    "for k in eval(SGD.iloc[0 , -1]).keys() : \n",
    "    params[k[5:]] = eval(SGD.iloc[0 , -1])[k]\n",
    "sgd.set_params(**params)\n",
    "sgd.fit(pipe.fit_transform(xtrain) , ytrain)\n",
    "pred = sgd.predict(pipe.fit_transform(xtest))\n",
    "print(classification_report(pred , ytest))\n",
    "\n",
    "score = cross_val_score(sgd ,pipe.fit_transform(x) , y , cv = cv , scoring = 'accuracy' )\n",
    "best_models['SGD'] = score"
   ]
  },
  {
   "cell_type": "code",
   "execution_count": 117,
   "metadata": {
    "scrolled": true
   },
   "outputs": [
    {
     "name": "stdout",
     "output_type": "stream",
     "text": [
      "              precision    recall  f1-score   support\n",
      "\n",
      "           A       0.44      0.45      0.45       497\n",
      "           B       0.29      0.39      0.33       342\n",
      "           C       0.60      0.56      0.58       514\n",
      "           D       0.73      0.63      0.68       664\n",
      "\n",
      "    accuracy                           0.53      2017\n",
      "   macro avg       0.52      0.51      0.51      2017\n",
      "weighted avg       0.55      0.53      0.54      2017\n",
      "\n"
     ]
    }
   ],
   "source": [
    "best_params_ = {'max_depth': 11, 'max_features': 'log2', 'n_estimators': 406}\n",
    "RF = RandomForestClassifier().set_params(**best_params_)\n",
    "RF.fit(pipe.fit_transform(xtrain) , ytrain)\n",
    "pred = RF.predict(pipe.fit_transform(xtest))\n",
    "print(classification_report(pred , ytest))\n",
    "\n",
    "\n",
    "score = cross_val_score(RF ,pipe.fit_transform(x) , y , cv = cv , scoring = 'accuracy' )\n",
    "best_models['RFclf'] = score"
   ]
  },
  {
   "cell_type": "markdown",
   "metadata": {},
   "source": [
    "### Interpretation : \n",
    "it seems that all models selected have the same predictive pattern , we can see that the precision percentage are higher for class C and D which mean that when the model predict (C / D) it is more likely to be actually (C / D) , same thing from recall when the classes are actually (C / d) it is more likely that the models will correctly predict those classes .\n",
    "\n",
    "on the other side we see less recall / precision for B which mean that the models cannot predict that class well  , but for class A it is around 50 % for recall/precision "
   ]
  },
  {
   "cell_type": "code",
   "execution_count": 147,
   "metadata": {
    "scrolled": false
   },
   "outputs": [
    {
     "data": {
      "text/plain": [
       "<matplotlib.axes._subplots.AxesSubplot at 0x141719f0>"
      ]
     },
     "execution_count": 147,
     "metadata": {},
     "output_type": "execute_result"
    },
    {
     "data": {
      "image/png": "[encoded data removed]",
      "text/plain": [
       "<Figure size 1152x720 with 1 Axes>"
      ]
     },
     "metadata": {
      "needs_background": "light"
     },
     "output_type": "display_data"
    }
   ],
   "source": [
    "fig , ax = plt.subplots(1,1 , figsize = (16 , 10))\n",
    "\n",
    "models =pd.DataFrame(best_models)\n",
    "col = models.columns\n",
    "df = models.melt( value_vars = col , value_name = 'col2' )\n",
    "sns.boxplot(df.variable , df.col2 , ax = ax )"
   ]
  },
  {
   "cell_type": "markdown",
   "metadata": {},
   "source": [
    "### Interpretation :\n",
    "\n",
    "this plot is showing a box plot of the accuracies of 5-fold CV for each model , we can see that there is no much difference between the models , the Random forest classifier seems to perform better than the others  while on the other side the SGD model seems to have high variance , which mean small fluctuation of the model result in big shift of the accuracy 'overfitting'. to see if there is a significant difference we need to preform the F-test between the models  ."
   ]
  },
  {
   "cell_type": "markdown",
   "metadata": {},
   "source": [
    "# Comparing models "
   ]
  },
  {
   "cell_type": "code",
   "execution_count": 93,
   "metadata": {},
   "outputs": [],
   "source": [
    "y_model_1 = sgd.predict(pipe.fit_transform(xtest))\n",
    "y_model_2 = ET.predict(pipe.fit_transform(xtest))\n",
    "y_model_3 = RF.predict(pipe.fit_transform(xtest))\n",
    "y_model_4 = knn.predict(pipe.fit_transform(xtest))"
   ]
  },
  {
   "cell_type": "code",
   "execution_count": 109,
   "metadata": {
    "scrolled": true
   },
   "outputs": [
    {
     "name": "stdout",
     "output_type": "stream",
     "text": [
      "F: 0.235\n",
      "p-value: 0.791\n"
     ]
    }
   ],
   "source": [
    "from mlxtend.evaluate import ftest\n",
    "f, p_value = ftest(np.asarray(ytest), \n",
    "                   y_model_1, \n",
    "                   y_model_2, \n",
    "                   y_model_3,\n",
    "                   y_model_4)\n",
    "\n",
    "print('F: %.3f' % f)\n",
    "print('p-value: %.3f' % p_value)"
   ]
  },
  {
   "cell_type": "markdown",
   "metadata": {},
   "source": [
    "the p-value is highe than threshold $\\alpha = 0.05$ which mean we failed to reject the null hypothesis , meaning that there is no different between the models , now the other step would be taking account the variance , in this case we will go from comparing models to comparing algorithms "
   ]
  },
  {
   "cell_type": "markdown",
   "metadata": {},
   "source": [
    "# Comparing algorithms using 5x2CV F-test "
   ]
  },
  {
   "cell_type": "code",
   "execution_count": 176,
   "metadata": {},
   "outputs": [
    {
     "name": "stdout",
     "output_type": "stream",
     "text": [
      "Extra vs KNeig\n",
      "F statistic: 0.585\n",
      "p value: 0.780\n",
      "=====================\n",
      "\n",
      "Extra vs Rando\n",
      "F statistic: 7.401\n",
      "p value: 0.020\n",
      "=====================\n",
      "\n",
      "Extra vs SGDCl\n",
      "F statistic: 4.220\n",
      "p value: 0.063\n",
      "=====================\n",
      "\n",
      "KNeig vs Extra\n",
      "F statistic: 0.609\n",
      "p value: 0.764\n",
      "=====================\n",
      "\n",
      "KNeig vs Rando\n",
      "F statistic: 3.127\n",
      "p value: 0.110\n",
      "=====================\n",
      "\n",
      "KNeig vs SGDCl\n",
      "F statistic: 3.124\n",
      "p value: 0.110\n",
      "=====================\n",
      "\n",
      "Rando vs Extra\n",
      "F statistic: 3.544\n",
      "p value: 0.088\n",
      "=====================\n",
      "\n",
      "Rando vs KNeig\n",
      "F statistic: 3.616\n",
      "p value: 0.084\n",
      "=====================\n",
      "\n",
      "Rando vs SGDCl\n",
      "F statistic: 7.086\n",
      "p value: 0.022\n",
      "=====================\n",
      "\n",
      "SGDCl vs Extra\n",
      "F statistic: 2.650\n",
      "p value: 0.147\n",
      "=====================\n",
      "\n",
      "SGDCl vs KNeig\n",
      "F statistic: 16.089\n",
      "p value: 0.003\n",
      "=====================\n",
      "\n",
      "SGDCl vs Rando\n",
      "F statistic: 16.619\n",
      "p value: 0.003\n",
      "=====================\n",
      "\n"
     ]
    }
   ],
   "source": [
    "from itertools import product\n",
    "from mlxtend.evaluate import combined_ftest_5x2cv\n",
    "\n",
    "for i , j in product(*[[ET , knn , RF , sgd] ,[ET , knn , RF , sgd]]):\n",
    "    if i!=j :\n",
    "        \n",
    "        f, p = combined_ftest_5x2cv(i,\n",
    "                                    j,\n",
    "                                    X=pipe.fit_transform(xtrain),\n",
    "                                    y=np.asarray(ytrain), \n",
    "                                   scoring='accuracy')\n",
    "        \n",
    "        print(f'{str(i)[:5]} vs {str(j)[:5]}')\n",
    "        print('F statistic: %.3f' % f)\n",
    "        print('p value: %.3f' % p)\n",
    "        print('=====================\\n')\n"
   ]
  },
  {
   "cell_type": "markdown",
   "metadata": {},
   "source": [
    "### Interpretation :\n",
    "\n",
    "the difference occure between the sgd classifier and ET and RF which mean the high variance of sgd will eliminate that choice and leaves us with just RF and ET "
   ]
  },
  {
   "cell_type": "code",
   "execution_count": 187,
   "metadata": {},
   "outputs": [
    {
     "name": "stdout",
     "output_type": "stream",
     "text": [
      "lower = 0.5022503372546827 , upper = 0.5458408873362939\n",
      "difference 0.04359055008161117\n"
     ]
    }
   ],
   "source": [
    "from sklearn.metrics import confusion_matrix\n",
    "from statsmodels.stats.proportion import proportion_confint\n",
    "RF = RandomForestClassifier().set_params(**best_params_)\n",
    "RF.fit(pipe.fit_transform(xtrain) , ytrain)\n",
    "pred = RF.predict(pipe.fit_transform(xtest))\n",
    "\n",
    "cm = confusion_matrix(ytest , pred)\n",
    "num_acc = np.trace(cm)\n",
    "lower , upper = proportion_confint(num_acc , ytest.shape[0] , 0.05)\n",
    "print(f'lower = {lower} , upper = {upper}')\n",
    "print(f'difference {upper - lower}')"
   ]
  },
  {
   "cell_type": "code",
   "execution_count": 188,
   "metadata": {},
   "outputs": [
    {
     "name": "stdout",
     "output_type": "stream",
     "text": [
      "lower = 0.49480034429928793 , upper = 0.5384173056759228\n",
      "difference 0.0436169613766349\n"
     ]
    }
   ],
   "source": [
    "ET = ExtraTreesClassifier()\n",
    "params = {}\n",
    "for k in eval(ETclf.iloc[0 , -1]).keys() : \n",
    "    params[k[7:]] = eval(ETclf.iloc[0 , -1])[k]\n",
    "ET.set_params(**params)\n",
    "ET.fit(pipe.fit_transform(xtrain) , ytrain)\n",
    "pred = ET.predict(pipe.fit_transform(xtest))\n",
    "\n",
    "cm = confusion_matrix(ytest , pred)\n",
    "num_acc = np.trace(cm)\n",
    "lower , upper = proportion_confint(num_acc , ytest.shape[0] , 0.05)\n",
    "print(f'lower = {lower} , upper = {upper}')\n",
    "print(f'difference {upper - lower}')"
   ]
  },
  {
   "cell_type": "markdown",
   "metadata": {},
   "source": [
    "both models seems to be narrowed almost the same amount , but the RF seems to be shifted forward more than the ET , now we should see if the models reach their capacities or they need more data . \n",
    "\n",
    "To do that we will train the model on the whole data "
   ]
  },
  {
   "cell_type": "code",
   "execution_count": 189,
   "metadata": {},
   "outputs": [
    {
     "name": "stdout",
     "output_type": "stream",
     "text": [
      "              precision    recall  f1-score   support\n",
      "\n",
      "           A       0.63      0.58      0.61      2127\n",
      "           B       0.44      0.60      0.51      1345\n",
      "           C       0.66      0.63      0.64      2061\n",
      "           D       0.80      0.72      0.76      2535\n",
      "\n",
      "    accuracy                           0.64      8068\n",
      "   macro avg       0.63      0.63      0.63      8068\n",
      "weighted avg       0.66      0.64      0.65      8068\n",
      "\n"
     ]
    }
   ],
   "source": [
    "ET = ExtraTreesClassifier()\n",
    "cv = StratifiedKFold(5)\n",
    "params = {}\n",
    "for k in eval(ETclf.iloc[0 , -1]).keys() : \n",
    "    params[k[7:]] = eval(ETclf.iloc[0 , -1])[k]\n",
    "ET.set_params(**params)\n",
    "ET.fit(pipe.fit_transform(x) , y)\n",
    "pred = ET.predict(pipe.fit_transform(x))\n",
    "print(classification_report(pred , y))\n",
    "\n"
   ]
  },
  {
   "cell_type": "code",
   "execution_count": 191,
   "metadata": {},
   "outputs": [
    {
     "name": "stdout",
     "output_type": "stream",
     "text": [
      "              precision    recall  f1-score   support\n",
      "\n",
      "           A       0.69      0.67      0.68      2032\n",
      "           B       0.51      0.67      0.58      1400\n",
      "           C       0.70      0.67      0.68      2074\n",
      "           D       0.85      0.75      0.80      2562\n",
      "\n",
      "    accuracy                           0.70      8068\n",
      "   macro avg       0.69      0.69      0.69      8068\n",
      "weighted avg       0.71      0.70      0.70      8068\n",
      "\n"
     ]
    }
   ],
   "source": [
    "RF = RandomForestClassifier().set_params(**best_params_)\n",
    "RF.fit(pipe.fit_transform(x) , y)\n",
    "pred = RF.predict(pipe.fit_transform(x))\n",
    "print(classification_report(pred , y))\n",
    "\n"
   ]
  },
  {
   "cell_type": "markdown",
   "metadata": {},
   "source": [
    "# Interpretation \n",
    "the model RF is still the best choice and the accuracy increased to 70% which mean the model need more data to improve more "
   ]
  }
 ],
 "metadata": {
  "kernelspec": {
   "display_name": "Python 3",
   "language": "python",
   "name": "python3"
  },
  "language_info": {
   "codemirror_mode": {
    "name": "ipython",
    "version": 3
   },
   "file_extension": ".py",
   "mimetype": "text/x-python",
   "name": "python",
   "nbconvert_exporter": "python",
   "pygments_lexer": "ipython3",
   "version": "3.7.6"
  }
 },
 "nbformat": 4,
 "nbformat_minor": 4
}
